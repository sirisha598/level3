{
 "cells": [
  {
   "cell_type": "code",
   "execution_count": 3,
   "metadata": {},
   "outputs": [],
   "source": [
    "import pandas as pd\n",
    "import matplotlib.pyplot as plt\n",
    "import numpy as np"
   ]
  },
  {
   "cell_type": "code",
   "execution_count": 4,
   "metadata": {},
   "outputs": [],
   "source": [
    "df = pd.read_csv('Head Brain.csv')"
   ]
  },
  {
   "cell_type": "code",
   "execution_count": 5,
   "metadata": {},
   "outputs": [
    {
     "data": {
      "text/html": [
       "<div>\n",
       "<style scoped>\n",
       "    .dataframe tbody tr th:only-of-type {\n",
       "        vertical-align: middle;\n",
       "    }\n",
       "\n",
       "    .dataframe tbody tr th {\n",
       "        vertical-align: top;\n",
       "    }\n",
       "\n",
       "    .dataframe thead th {\n",
       "        text-align: right;\n",
       "    }\n",
       "</style>\n",
       "<table border=\"1\" class=\"dataframe\">\n",
       "  <thead>\n",
       "    <tr style=\"text-align: right;\">\n",
       "      <th></th>\n",
       "      <th>Gender</th>\n",
       "      <th>Age Range</th>\n",
       "      <th>Head Size(cm^3)</th>\n",
       "      <th>Brain Weight(grams)</th>\n",
       "    </tr>\n",
       "  </thead>\n",
       "  <tbody>\n",
       "    <tr>\n",
       "      <th>0</th>\n",
       "      <td>1</td>\n",
       "      <td>1</td>\n",
       "      <td>4512</td>\n",
       "      <td>1530</td>\n",
       "    </tr>\n",
       "    <tr>\n",
       "      <th>1</th>\n",
       "      <td>1</td>\n",
       "      <td>1</td>\n",
       "      <td>3738</td>\n",
       "      <td>1297</td>\n",
       "    </tr>\n",
       "    <tr>\n",
       "      <th>2</th>\n",
       "      <td>1</td>\n",
       "      <td>1</td>\n",
       "      <td>4261</td>\n",
       "      <td>1335</td>\n",
       "    </tr>\n",
       "    <tr>\n",
       "      <th>3</th>\n",
       "      <td>1</td>\n",
       "      <td>1</td>\n",
       "      <td>3777</td>\n",
       "      <td>1282</td>\n",
       "    </tr>\n",
       "    <tr>\n",
       "      <th>4</th>\n",
       "      <td>1</td>\n",
       "      <td>1</td>\n",
       "      <td>4177</td>\n",
       "      <td>1590</td>\n",
       "    </tr>\n",
       "  </tbody>\n",
       "</table>\n",
       "</div>"
      ],
      "text/plain": [
       "   Gender  Age Range  Head Size(cm^3)  Brain Weight(grams)\n",
       "0       1          1             4512                 1530\n",
       "1       1          1             3738                 1297\n",
       "2       1          1             4261                 1335\n",
       "3       1          1             3777                 1282\n",
       "4       1          1             4177                 1590"
      ]
     },
     "execution_count": 5,
     "metadata": {},
     "output_type": "execute_result"
    }
   ],
   "source": [
    "df.head()"
   ]
  },
  {
   "cell_type": "code",
   "execution_count": 6,
   "metadata": {},
   "outputs": [
    {
     "data": {
      "text/plain": [
       "(237, 4)"
      ]
     },
     "execution_count": 6,
     "metadata": {},
     "output_type": "execute_result"
    }
   ],
   "source": [
    "df.shape"
   ]
  },
  {
   "cell_type": "code",
   "execution_count": 7,
   "metadata": {},
   "outputs": [
    {
     "data": {
      "text/plain": [
       "Index(['Gender', 'Age Range', 'Head Size(cm^3)', 'Brain Weight(grams)'], dtype='object')"
      ]
     },
     "execution_count": 7,
     "metadata": {},
     "output_type": "execute_result"
    }
   ],
   "source": [
    "df.columns"
   ]
  },
  {
   "cell_type": "code",
   "execution_count": 8,
   "metadata": {},
   "outputs": [
    {
     "data": {
      "text/plain": [
       "RangeIndex(start=0, stop=237, step=1)"
      ]
     },
     "execution_count": 8,
     "metadata": {},
     "output_type": "execute_result"
    }
   ],
   "source": [
    "df.index"
   ]
  },
  {
   "cell_type": "code",
   "execution_count": 9,
   "metadata": {},
   "outputs": [
    {
     "data": {
      "text/plain": [
       "<bound method NDFrame.describe of      Gender  Age Range  Head Size(cm^3)  Brain Weight(grams)\n",
       "0         1          1             4512                 1530\n",
       "1         1          1             3738                 1297\n",
       "2         1          1             4261                 1335\n",
       "3         1          1             3777                 1282\n",
       "4         1          1             4177                 1590\n",
       "5         1          1             3585                 1300\n",
       "6         1          1             3785                 1400\n",
       "7         1          1             3559                 1255\n",
       "8         1          1             3613                 1355\n",
       "9         1          1             3982                 1375\n",
       "10        1          1             3443                 1340\n",
       "11        1          1             3993                 1380\n",
       "12        1          1             3640                 1355\n",
       "13        1          1             4208                 1522\n",
       "14        1          1             3832                 1208\n",
       "15        1          1             3876                 1405\n",
       "16        1          1             3497                 1358\n",
       "17        1          1             3466                 1292\n",
       "18        1          1             3095                 1340\n",
       "19        1          1             4424                 1400\n",
       "20        1          1             3878                 1357\n",
       "21        1          1             4046                 1287\n",
       "22        1          1             3804                 1275\n",
       "23        1          1             3710                 1270\n",
       "24        1          1             4747                 1635\n",
       "25        1          1             4423                 1505\n",
       "26        1          1             4036                 1490\n",
       "27        1          1             4022                 1485\n",
       "28        1          1             3454                 1310\n",
       "29        1          1             4175                 1420\n",
       "..      ...        ...              ...                  ...\n",
       "207       2          2             3995                 1296\n",
       "208       2          2             3318                 1175\n",
       "209       2          2             2720                  955\n",
       "210       2          2             2937                 1070\n",
       "211       2          2             3580                 1320\n",
       "212       2          2             2939                 1060\n",
       "213       2          2             2989                 1130\n",
       "214       2          2             3586                 1250\n",
       "215       2          2             3156                 1225\n",
       "216       2          2             3246                 1180\n",
       "217       2          2             3170                 1178\n",
       "218       2          2             3268                 1142\n",
       "219       2          2             3389                 1130\n",
       "220       2          2             3381                 1185\n",
       "221       2          2             2864                 1012\n",
       "222       2          2             3740                 1280\n",
       "223       2          2             3479                 1103\n",
       "224       2          2             3647                 1408\n",
       "225       2          2             3716                 1300\n",
       "226       2          2             3284                 1246\n",
       "227       2          2             4204                 1380\n",
       "228       2          2             3735                 1350\n",
       "229       2          2             3218                 1060\n",
       "230       2          2             3685                 1350\n",
       "231       2          2             3704                 1220\n",
       "232       2          2             3214                 1110\n",
       "233       2          2             3394                 1215\n",
       "234       2          2             3233                 1104\n",
       "235       2          2             3352                 1170\n",
       "236       2          2             3391                 1120\n",
       "\n",
       "[237 rows x 4 columns]>"
      ]
     },
     "execution_count": 9,
     "metadata": {},
     "output_type": "execute_result"
    }
   ],
   "source": [
    "df.describe"
   ]
  },
  {
   "cell_type": "code",
   "execution_count": 10,
   "metadata": {},
   "outputs": [],
   "source": [
    "X = df['Head Size(cm^3)'] # Input\n",
    "Y = df['Brain Weight(grams)'] # Target"
   ]
  },
  {
   "cell_type": "code",
   "execution_count": 11,
   "metadata": {},
   "outputs": [
    {
     "data": {
      "text/plain": [
       "1282.873417721519"
      ]
     },
     "execution_count": 11,
     "metadata": {},
     "output_type": "execute_result"
    }
   ],
   "source": [
    "n = len(X)\n",
    "x_mean = np.mean(X)\n",
    "x_mean\n",
    "y_mean = np.mean(Y)\n",
    "y_mean"
   ]
  },
  {
   "cell_type": "code",
   "execution_count": 12,
   "metadata": {},
   "outputs": [
    {
     "name": "stdout",
     "output_type": "stream",
     "text": [
      "0.26342933948939945\n"
     ]
    }
   ],
   "source": [
    "numerator = 0\n",
    "denominator = 0\n",
    "for i in range(n):\n",
    "    numerator = numerator + (X[i] - x_mean) * (Y[i] - y_mean)\n",
    "    denominator = denominator + (X[i] - x_mean)**2\n",
    "b1 = numerator / denominator\n",
    "print(b1)"
   ]
  },
  {
   "cell_type": "code",
   "execution_count": 13,
   "metadata": {},
   "outputs": [
    {
     "name": "stdout",
     "output_type": "stream",
     "text": [
      "325.57342104944223\n"
     ]
    }
   ],
   "source": [
    "b0 = y_mean - (b1 * x_mean)\n",
    "print(b0)"
   ]
  },
  {
   "cell_type": "code",
   "execution_count": 14,
   "metadata": {},
   "outputs": [
    {
     "data": {
      "text/plain": [
       "(4747, 2720)"
      ]
     },
     "execution_count": 14,
     "metadata": {},
     "output_type": "execute_result"
    }
   ],
   "source": [
    "min_X = np.min(X)\n",
    "max_X = np.max(X)\n",
    "max_X,min_X"
   ]
  },
  {
   "cell_type": "code",
   "execution_count": 16,
   "metadata": {},
   "outputs": [
    {
     "data": {
      "text/plain": [
       "array([2720.        , 2722.02902903, 2724.05805806, 2726.08708709,\n",
       "       2728.11611612, 2730.14514515, 2732.17417417, 2734.2032032 ,\n",
       "       2736.23223223, 2738.26126126, 2740.29029029, 2742.31931932,\n",
       "       2744.34834835, 2746.37737738, 2748.40640641, 2750.43543544,\n",
       "       2752.46446446, 2754.49349349, 2756.52252252, 2758.55155155,\n",
       "       2760.58058058, 2762.60960961, 2764.63863864, 2766.66766767,\n",
       "       2768.6966967 , 2770.72572573, 2772.75475475, 2774.78378378,\n",
       "       2776.81281281, 2778.84184184, 2780.87087087, 2782.8998999 ,\n",
       "       2784.92892893, 2786.95795796, 2788.98698699, 2791.01601602,\n",
       "       2793.04504505, 2795.07407407, 2797.1031031 , 2799.13213213,\n",
       "       2801.16116116, 2803.19019019, 2805.21921922, 2807.24824825,\n",
       "       2809.27727728, 2811.30630631, 2813.33533534, 2815.36436436,\n",
       "       2817.39339339, 2819.42242242, 2821.45145145, 2823.48048048,\n",
       "       2825.50950951, 2827.53853854, 2829.56756757, 2831.5965966 ,\n",
       "       2833.62562563, 2835.65465465, 2837.68368368, 2839.71271271,\n",
       "       2841.74174174, 2843.77077077, 2845.7997998 , 2847.82882883,\n",
       "       2849.85785786, 2851.88688689, 2853.91591592, 2855.94494494,\n",
       "       2857.97397397, 2860.003003  , 2862.03203203, 2864.06106106,\n",
       "       2866.09009009, 2868.11911912, 2870.14814815, 2872.17717718,\n",
       "       2874.20620621, 2876.23523524, 2878.26426426, 2880.29329329,\n",
       "       2882.32232232, 2884.35135135, 2886.38038038, 2888.40940941,\n",
       "       2890.43843844, 2892.46746747, 2894.4964965 , 2896.52552553,\n",
       "       2898.55455455, 2900.58358358, 2902.61261261, 2904.64164164,\n",
       "       2906.67067067, 2908.6996997 , 2910.72872873, 2912.75775776,\n",
       "       2914.78678679, 2916.81581582, 2918.84484484, 2920.87387387,\n",
       "       2922.9029029 , 2924.93193193, 2926.96096096, 2928.98998999,\n",
       "       2931.01901902, 2933.04804805, 2935.07707708, 2937.10610611,\n",
       "       2939.13513514, 2941.16416416, 2943.19319319, 2945.22222222,\n",
       "       2947.25125125, 2949.28028028, 2951.30930931, 2953.33833834,\n",
       "       2955.36736737, 2957.3963964 , 2959.42542543, 2961.45445445,\n",
       "       2963.48348348, 2965.51251251, 2967.54154154, 2969.57057057,\n",
       "       2971.5995996 , 2973.62862863, 2975.65765766, 2977.68668669,\n",
       "       2979.71571572, 2981.74474474, 2983.77377377, 2985.8028028 ,\n",
       "       2987.83183183, 2989.86086086, 2991.88988989, 2993.91891892,\n",
       "       2995.94794795, 2997.97697698, 3000.00600601, 3002.03503504,\n",
       "       3004.06406406, 3006.09309309, 3008.12212212, 3010.15115115,\n",
       "       3012.18018018, 3014.20920921, 3016.23823824, 3018.26726727,\n",
       "       3020.2962963 , 3022.32532533, 3024.35435435, 3026.38338338,\n",
       "       3028.41241241, 3030.44144144, 3032.47047047, 3034.4994995 ,\n",
       "       3036.52852853, 3038.55755756, 3040.58658659, 3042.61561562,\n",
       "       3044.64464464, 3046.67367367, 3048.7027027 , 3050.73173173,\n",
       "       3052.76076076, 3054.78978979, 3056.81881882, 3058.84784785,\n",
       "       3060.87687688, 3062.90590591, 3064.93493493, 3066.96396396,\n",
       "       3068.99299299, 3071.02202202, 3073.05105105, 3075.08008008,\n",
       "       3077.10910911, 3079.13813814, 3081.16716717, 3083.1961962 ,\n",
       "       3085.22522523, 3087.25425425, 3089.28328328, 3091.31231231,\n",
       "       3093.34134134, 3095.37037037, 3097.3993994 , 3099.42842843,\n",
       "       3101.45745746, 3103.48648649, 3105.51551552, 3107.54454454,\n",
       "       3109.57357357, 3111.6026026 , 3113.63163163, 3115.66066066,\n",
       "       3117.68968969, 3119.71871872, 3121.74774775, 3123.77677678,\n",
       "       3125.80580581, 3127.83483483, 3129.86386386, 3131.89289289,\n",
       "       3133.92192192, 3135.95095095, 3137.97997998, 3140.00900901,\n",
       "       3142.03803804, 3144.06706707, 3146.0960961 , 3148.12512513,\n",
       "       3150.15415415, 3152.18318318, 3154.21221221, 3156.24124124,\n",
       "       3158.27027027, 3160.2992993 , 3162.32832833, 3164.35735736,\n",
       "       3166.38638639, 3168.41541542, 3170.44444444, 3172.47347347,\n",
       "       3174.5025025 , 3176.53153153, 3178.56056056, 3180.58958959,\n",
       "       3182.61861862, 3184.64764765, 3186.67667668, 3188.70570571,\n",
       "       3190.73473473, 3192.76376376, 3194.79279279, 3196.82182182,\n",
       "       3198.85085085, 3200.87987988, 3202.90890891, 3204.93793794,\n",
       "       3206.96696697, 3208.995996  , 3211.02502503, 3213.05405405,\n",
       "       3215.08308308, 3217.11211211, 3219.14114114, 3221.17017017,\n",
       "       3223.1991992 , 3225.22822823, 3227.25725726, 3229.28628629,\n",
       "       3231.31531532, 3233.34434434, 3235.37337337, 3237.4024024 ,\n",
       "       3239.43143143, 3241.46046046, 3243.48948949, 3245.51851852,\n",
       "       3247.54754755, 3249.57657658, 3251.60560561, 3253.63463463,\n",
       "       3255.66366366, 3257.69269269, 3259.72172172, 3261.75075075,\n",
       "       3263.77977978, 3265.80880881, 3267.83783784, 3269.86686687,\n",
       "       3271.8958959 , 3273.92492492, 3275.95395395, 3277.98298298,\n",
       "       3280.01201201, 3282.04104104, 3284.07007007, 3286.0990991 ,\n",
       "       3288.12812813, 3290.15715716, 3292.18618619, 3294.21521522,\n",
       "       3296.24424424, 3298.27327327, 3300.3023023 , 3302.33133133,\n",
       "       3304.36036036, 3306.38938939, 3308.41841842, 3310.44744745,\n",
       "       3312.47647648, 3314.50550551, 3316.53453453, 3318.56356356,\n",
       "       3320.59259259, 3322.62162162, 3324.65065065, 3326.67967968,\n",
       "       3328.70870871, 3330.73773774, 3332.76676677, 3334.7957958 ,\n",
       "       3336.82482482, 3338.85385385, 3340.88288288, 3342.91191191,\n",
       "       3344.94094094, 3346.96996997, 3348.998999  , 3351.02802803,\n",
       "       3353.05705706, 3355.08608609, 3357.11511512, 3359.14414414,\n",
       "       3361.17317317, 3363.2022022 , 3365.23123123, 3367.26026026,\n",
       "       3369.28928929, 3371.31831832, 3373.34734735, 3375.37637638,\n",
       "       3377.40540541, 3379.43443443, 3381.46346346, 3383.49249249,\n",
       "       3385.52152152, 3387.55055055, 3389.57957958, 3391.60860861,\n",
       "       3393.63763764, 3395.66666667, 3397.6956957 , 3399.72472472,\n",
       "       3401.75375375, 3403.78278278, 3405.81181181, 3407.84084084,\n",
       "       3409.86986987, 3411.8988989 , 3413.92792793, 3415.95695696,\n",
       "       3417.98598599, 3420.01501502, 3422.04404404, 3424.07307307,\n",
       "       3426.1021021 , 3428.13113113, 3430.16016016, 3432.18918919,\n",
       "       3434.21821822, 3436.24724725, 3438.27627628, 3440.30530531,\n",
       "       3442.33433433, 3444.36336336, 3446.39239239, 3448.42142142,\n",
       "       3450.45045045, 3452.47947948, 3454.50850851, 3456.53753754,\n",
       "       3458.56656657, 3460.5955956 , 3462.62462462, 3464.65365365,\n",
       "       3466.68268268, 3468.71171171, 3470.74074074, 3472.76976977,\n",
       "       3474.7987988 , 3476.82782783, 3478.85685686, 3480.88588589,\n",
       "       3482.91491491, 3484.94394394, 3486.97297297, 3489.002002  ,\n",
       "       3491.03103103, 3493.06006006, 3495.08908909, 3497.11811812,\n",
       "       3499.14714715, 3501.17617618, 3503.20520521, 3505.23423423,\n",
       "       3507.26326326, 3509.29229229, 3511.32132132, 3513.35035035,\n",
       "       3515.37937938, 3517.40840841, 3519.43743744, 3521.46646647,\n",
       "       3523.4954955 , 3525.52452452, 3527.55355355, 3529.58258258,\n",
       "       3531.61161161, 3533.64064064, 3535.66966967, 3537.6986987 ,\n",
       "       3539.72772773, 3541.75675676, 3543.78578579, 3545.81481481,\n",
       "       3547.84384384, 3549.87287287, 3551.9019019 , 3553.93093093,\n",
       "       3555.95995996, 3557.98898899, 3560.01801802, 3562.04704705,\n",
       "       3564.07607608, 3566.10510511, 3568.13413413, 3570.16316316,\n",
       "       3572.19219219, 3574.22122122, 3576.25025025, 3578.27927928,\n",
       "       3580.30830831, 3582.33733734, 3584.36636637, 3586.3953954 ,\n",
       "       3588.42442442, 3590.45345345, 3592.48248248, 3594.51151151,\n",
       "       3596.54054054, 3598.56956957, 3600.5985986 , 3602.62762763,\n",
       "       3604.65665666, 3606.68568569, 3608.71471471, 3610.74374374,\n",
       "       3612.77277277, 3614.8018018 , 3616.83083083, 3618.85985986,\n",
       "       3620.88888889, 3622.91791792, 3624.94694695, 3626.97597598,\n",
       "       3629.00500501, 3631.03403403, 3633.06306306, 3635.09209209,\n",
       "       3637.12112112, 3639.15015015, 3641.17917918, 3643.20820821,\n",
       "       3645.23723724, 3647.26626627, 3649.2952953 , 3651.32432432,\n",
       "       3653.35335335, 3655.38238238, 3657.41141141, 3659.44044044,\n",
       "       3661.46946947, 3663.4984985 , 3665.52752753, 3667.55655656,\n",
       "       3669.58558559, 3671.61461461, 3673.64364364, 3675.67267267,\n",
       "       3677.7017017 , 3679.73073073, 3681.75975976, 3683.78878879,\n",
       "       3685.81781782, 3687.84684685, 3689.87587588, 3691.9049049 ,\n",
       "       3693.93393393, 3695.96296296, 3697.99199199, 3700.02102102,\n",
       "       3702.05005005, 3704.07907908, 3706.10810811, 3708.13713714,\n",
       "       3710.16616617, 3712.1951952 , 3714.22422422, 3716.25325325,\n",
       "       3718.28228228, 3720.31131131, 3722.34034034, 3724.36936937,\n",
       "       3726.3983984 , 3728.42742743, 3730.45645646, 3732.48548549,\n",
       "       3734.51451451, 3736.54354354, 3738.57257257, 3740.6016016 ,\n",
       "       3742.63063063, 3744.65965966, 3746.68868869, 3748.71771772,\n",
       "       3750.74674675, 3752.77577578, 3754.8048048 , 3756.83383383,\n",
       "       3758.86286286, 3760.89189189, 3762.92092092, 3764.94994995,\n",
       "       3766.97897898, 3769.00800801, 3771.03703704, 3773.06606607,\n",
       "       3775.0950951 , 3777.12412412, 3779.15315315, 3781.18218218,\n",
       "       3783.21121121, 3785.24024024, 3787.26926927, 3789.2982983 ,\n",
       "       3791.32732733, 3793.35635636, 3795.38538539, 3797.41441441,\n",
       "       3799.44344344, 3801.47247247, 3803.5015015 , 3805.53053053,\n",
       "       3807.55955956, 3809.58858859, 3811.61761762, 3813.64664665,\n",
       "       3815.67567568, 3817.7047047 , 3819.73373373, 3821.76276276,\n",
       "       3823.79179179, 3825.82082082, 3827.84984985, 3829.87887888,\n",
       "       3831.90790791, 3833.93693694, 3835.96596597, 3837.99499499,\n",
       "       3840.02402402, 3842.05305305, 3844.08208208, 3846.11111111,\n",
       "       3848.14014014, 3850.16916917, 3852.1981982 , 3854.22722723,\n",
       "       3856.25625626, 3858.28528529, 3860.31431431, 3862.34334334,\n",
       "       3864.37237237, 3866.4014014 , 3868.43043043, 3870.45945946,\n",
       "       3872.48848849, 3874.51751752, 3876.54654655, 3878.57557558,\n",
       "       3880.6046046 , 3882.63363363, 3884.66266266, 3886.69169169,\n",
       "       3888.72072072, 3890.74974975, 3892.77877878, 3894.80780781,\n",
       "       3896.83683684, 3898.86586587, 3900.89489489, 3902.92392392,\n",
       "       3904.95295295, 3906.98198198, 3909.01101101, 3911.04004004,\n",
       "       3913.06906907, 3915.0980981 , 3917.12712713, 3919.15615616,\n",
       "       3921.18518519, 3923.21421421, 3925.24324324, 3927.27227227,\n",
       "       3929.3013013 , 3931.33033033, 3933.35935936, 3935.38838839,\n",
       "       3937.41741742, 3939.44644645, 3941.47547548, 3943.5045045 ,\n",
       "       3945.53353353, 3947.56256256, 3949.59159159, 3951.62062062,\n",
       "       3953.64964965, 3955.67867868, 3957.70770771, 3959.73673674,\n",
       "       3961.76576577, 3963.79479479, 3965.82382382, 3967.85285285,\n",
       "       3969.88188188, 3971.91091091, 3973.93993994, 3975.96896897,\n",
       "       3977.997998  , 3980.02702703, 3982.05605606, 3984.08508509,\n",
       "       3986.11411411, 3988.14314314, 3990.17217217, 3992.2012012 ,\n",
       "       3994.23023023, 3996.25925926, 3998.28828829, 4000.31731732,\n",
       "       4002.34634635, 4004.37537538, 4006.4044044 , 4008.43343343,\n",
       "       4010.46246246, 4012.49149149, 4014.52052052, 4016.54954955,\n",
       "       4018.57857858, 4020.60760761, 4022.63663664, 4024.66566567,\n",
       "       4026.69469469, 4028.72372372, 4030.75275275, 4032.78178178,\n",
       "       4034.81081081, 4036.83983984, 4038.86886887, 4040.8978979 ,\n",
       "       4042.92692693, 4044.95595596, 4046.98498498, 4049.01401401,\n",
       "       4051.04304304, 4053.07207207, 4055.1011011 , 4057.13013013,\n",
       "       4059.15915916, 4061.18818819, 4063.21721722, 4065.24624625,\n",
       "       4067.27527528, 4069.3043043 , 4071.33333333, 4073.36236236,\n",
       "       4075.39139139, 4077.42042042, 4079.44944945, 4081.47847848,\n",
       "       4083.50750751, 4085.53653654, 4087.56556557, 4089.59459459,\n",
       "       4091.62362362, 4093.65265265, 4095.68168168, 4097.71071071,\n",
       "       4099.73973974, 4101.76876877, 4103.7977978 , 4105.82682683,\n",
       "       4107.85585586, 4109.88488488, 4111.91391391, 4113.94294294,\n",
       "       4115.97197197, 4118.001001  , 4120.03003003, 4122.05905906,\n",
       "       4124.08808809, 4126.11711712, 4128.14614615, 4130.17517518,\n",
       "       4132.2042042 , 4134.23323323, 4136.26226226, 4138.29129129,\n",
       "       4140.32032032, 4142.34934935, 4144.37837838, 4146.40740741,\n",
       "       4148.43643644, 4150.46546547, 4152.49449449, 4154.52352352,\n",
       "       4156.55255255, 4158.58158158, 4160.61061061, 4162.63963964,\n",
       "       4164.66866867, 4166.6976977 , 4168.72672673, 4170.75575576,\n",
       "       4172.78478478, 4174.81381381, 4176.84284284, 4178.87187187,\n",
       "       4180.9009009 , 4182.92992993, 4184.95895896, 4186.98798799,\n",
       "       4189.01701702, 4191.04604605, 4193.07507508, 4195.1041041 ,\n",
       "       4197.13313313, 4199.16216216, 4201.19119119, 4203.22022022,\n",
       "       4205.24924925, 4207.27827828, 4209.30730731, 4211.33633634,\n",
       "       4213.36536537, 4215.39439439, 4217.42342342, 4219.45245245,\n",
       "       4221.48148148, 4223.51051051, 4225.53953954, 4227.56856857,\n",
       "       4229.5975976 , 4231.62662663, 4233.65565566, 4235.68468468,\n",
       "       4237.71371371, 4239.74274274, 4241.77177177, 4243.8008008 ,\n",
       "       4245.82982983, 4247.85885886, 4249.88788789, 4251.91691692,\n",
       "       4253.94594595, 4255.97497497, 4258.004004  , 4260.03303303,\n",
       "       4262.06206206, 4264.09109109, 4266.12012012, 4268.14914915,\n",
       "       4270.17817818, 4272.20720721, 4274.23623624, 4276.26526527,\n",
       "       4278.29429429, 4280.32332332, 4282.35235235, 4284.38138138,\n",
       "       4286.41041041, 4288.43943944, 4290.46846847, 4292.4974975 ,\n",
       "       4294.52652653, 4296.55555556, 4298.58458458, 4300.61361361,\n",
       "       4302.64264264, 4304.67167167, 4306.7007007 , 4308.72972973,\n",
       "       4310.75875876, 4312.78778779, 4314.81681682, 4316.84584585,\n",
       "       4318.87487487, 4320.9039039 , 4322.93293293, 4324.96196196,\n",
       "       4326.99099099, 4329.02002002, 4331.04904905, 4333.07807808,\n",
       "       4335.10710711, 4337.13613614, 4339.16516517, 4341.19419419,\n",
       "       4343.22322322, 4345.25225225, 4347.28128128, 4349.31031031,\n",
       "       4351.33933934, 4353.36836837, 4355.3973974 , 4357.42642643,\n",
       "       4359.45545546, 4361.48448448, 4363.51351351, 4365.54254254,\n",
       "       4367.57157157, 4369.6006006 , 4371.62962963, 4373.65865866,\n",
       "       4375.68768769, 4377.71671672, 4379.74574575, 4381.77477477,\n",
       "       4383.8038038 , 4385.83283283, 4387.86186186, 4389.89089089,\n",
       "       4391.91991992, 4393.94894895, 4395.97797798, 4398.00700701,\n",
       "       4400.03603604, 4402.06506507, 4404.09409409, 4406.12312312,\n",
       "       4408.15215215, 4410.18118118, 4412.21021021, 4414.23923924,\n",
       "       4416.26826827, 4418.2972973 , 4420.32632633, 4422.35535536,\n",
       "       4424.38438438, 4426.41341341, 4428.44244244, 4430.47147147,\n",
       "       4432.5005005 , 4434.52952953, 4436.55855856, 4438.58758759,\n",
       "       4440.61661662, 4442.64564565, 4444.67467467, 4446.7037037 ,\n",
       "       4448.73273273, 4450.76176176, 4452.79079079, 4454.81981982,\n",
       "       4456.84884885, 4458.87787788, 4460.90690691, 4462.93593594,\n",
       "       4464.96496496, 4466.99399399, 4469.02302302, 4471.05205205,\n",
       "       4473.08108108, 4475.11011011, 4477.13913914, 4479.16816817,\n",
       "       4481.1971972 , 4483.22622623, 4485.25525526, 4487.28428428,\n",
       "       4489.31331331, 4491.34234234, 4493.37137137, 4495.4004004 ,\n",
       "       4497.42942943, 4499.45845846, 4501.48748749, 4503.51651652,\n",
       "       4505.54554555, 4507.57457457, 4509.6036036 , 4511.63263263,\n",
       "       4513.66166166, 4515.69069069, 4517.71971972, 4519.74874875,\n",
       "       4521.77777778, 4523.80680681, 4525.83583584, 4527.86486486,\n",
       "       4529.89389389, 4531.92292292, 4533.95195195, 4535.98098098,\n",
       "       4538.01001001, 4540.03903904, 4542.06806807, 4544.0970971 ,\n",
       "       4546.12612613, 4548.15515516, 4550.18418418, 4552.21321321,\n",
       "       4554.24224224, 4556.27127127, 4558.3003003 , 4560.32932933,\n",
       "       4562.35835836, 4564.38738739, 4566.41641642, 4568.44544545,\n",
       "       4570.47447447, 4572.5035035 , 4574.53253253, 4576.56156156,\n",
       "       4578.59059059, 4580.61961962, 4582.64864865, 4584.67767768,\n",
       "       4586.70670671, 4588.73573574, 4590.76476476, 4592.79379379,\n",
       "       4594.82282282, 4596.85185185, 4598.88088088, 4600.90990991,\n",
       "       4602.93893894, 4604.96796797, 4606.996997  , 4609.02602603,\n",
       "       4611.05505506, 4613.08408408, 4615.11311311, 4617.14214214,\n",
       "       4619.17117117, 4621.2002002 , 4623.22922923, 4625.25825826,\n",
       "       4627.28728729, 4629.31631632, 4631.34534535, 4633.37437437,\n",
       "       4635.4034034 , 4637.43243243, 4639.46146146, 4641.49049049,\n",
       "       4643.51951952, 4645.54854855, 4647.57757758, 4649.60660661,\n",
       "       4651.63563564, 4653.66466466, 4655.69369369, 4657.72272272,\n",
       "       4659.75175175, 4661.78078078, 4663.80980981, 4665.83883884,\n",
       "       4667.86786787, 4669.8968969 , 4671.92592593, 4673.95495495,\n",
       "       4675.98398398, 4678.01301301, 4680.04204204, 4682.07107107,\n",
       "       4684.1001001 , 4686.12912913, 4688.15815816, 4690.18718719,\n",
       "       4692.21621622, 4694.24524525, 4696.27427427, 4698.3033033 ,\n",
       "       4700.33233233, 4702.36136136, 4704.39039039, 4706.41941942,\n",
       "       4708.44844845, 4710.47747748, 4712.50650651, 4714.53553554,\n",
       "       4716.56456456, 4718.59359359, 4720.62262262, 4722.65165165,\n",
       "       4724.68068068, 4726.70970971, 4728.73873874, 4730.76776777,\n",
       "       4732.7967968 , 4734.82582583, 4736.85485485, 4738.88388388,\n",
       "       4740.91291291, 4742.94194194, 4744.97097097, 4747.        ])"
      ]
     },
     "execution_count": 16,
     "metadata": {},
     "output_type": "execute_result"
    }
   ],
   "source": [
    "x = np.linspace(min_X,max_X,1000)\n",
    "y = b0 + b1 * x\n",
    "x"
   ]
  },
  {
   "cell_type": "code",
   "execution_count": 31,
   "metadata": {},
   "outputs": [
    {
     "data": {
      "image/png": "[encoded data removed]",
      "text/plain": [
       "<Figure size 432x288 with 1 Axes>"
      ]
     },
     "metadata": {
      "needs_background": "light"
     },
     "output_type": "display_data"
    }
   ],
   "source": [
    "plt.scatter(X,Y,color = 'b',label = 'points')\n",
    "plt.plot(x,y,color = 'g',label = 'Line')\n",
    "plt.title('Linear Regression')\n",
    "plt.legend()\n",
    "plt.show()"
   ]
  },
  {
   "cell_type": "code",
   "execution_count": 32,
   "metadata": {},
   "outputs": [
    {
     "data": {
      "text/plain": [
       "[<matplotlib.lines.Line2D at 0x1d0ce0def60>]"
      ]
     },
     "execution_count": 32,
     "metadata": {},
     "output_type": "execute_result"
    },
    {
     "data": {
      "image/png": "[encoded data removed]",
      "text/plain": [
       "<Figure size 432x288 with 1 Axes>"
      ]
     },
     "metadata": {
      "needs_background": "light"
     },
     "output_type": "display_data"
    }
   ],
   "source": [
    "plt.scatter(X,Y,c = 'blue',label ='points')\n",
    "plt.plot(X,y_pred,color = 'g',label = 'Line')"
   ]
  },
  {
   "cell_type": "markdown",
   "metadata": {},
   "source": [
    "# Polynomial Regression"
   ]
  },
  {
   "cell_type": "code",
   "execution_count": 17,
   "metadata": {},
   "outputs": [],
   "source": [
    "X = np.linspace(0,10,100)\n",
    "rng = np.random.randn(100)* 100\n",
    "Y = X**3 + rng + 100"
   ]
  },
  {
   "cell_type": "code",
   "execution_count": 19,
   "metadata": {},
   "outputs": [
    {
     "data": {
      "text/plain": [
       "<matplotlib.collections.PathCollection at 0x1d0cbf5abe0>"
      ]
     },
     "execution_count": 19,
     "metadata": {},
     "output_type": "execute_result"
    },
    {
     "data": {
      "image/png": "[encoded data removed]",
      "text/plain": [
       "<Figure size 432x288 with 1 Axes>"
      ]
     },
     "metadata": {
      "needs_background": "light"
     },
     "output_type": "display_data"
    }
   ],
   "source": [
    "plt.scatter(X,Y)"
   ]
  },
  {
   "cell_type": "code",
   "execution_count": 21,
   "metadata": {},
   "outputs": [],
   "source": [
    "from sklearn.linear_model import LinearRegressionn = len(X)"
   ]
  },
  {
   "cell_type": "code",
   "execution_count": 25,
   "metadata": {},
   "outputs": [],
   "source": [
    "lin_reg = LinearRegression()\n",
    "lin_reg.fit(X,Y)\n",
    "y_pred = lin_reg.predict(X)"
   ]
  },
  {
   "cell_type": "code",
   "execution_count": 26,
   "metadata": {},
   "outputs": [
    {
     "data": {
      "text/plain": [
       "[<matplotlib.lines.Line2D at 0x1d0cdee3f60>]"
      ]
     },
     "execution_count": 26,
     "metadata": {},
     "output_type": "execute_result"
    },
    {
     "data": {
      "image/png": "[encoded data removed]",
      "text/plain": [
       "<Figure size 432x288 with 1 Axes>"
      ]
     },
     "metadata": {
      "needs_background": "light"
     },
     "output_type": "display_data"
    }
   ],
   "source": [
    "plt.scatter(X,Y)\n",
    "plt.plot(X,y_pred,color = 'r')"
   ]
  },
  {
   "cell_type": "markdown",
   "metadata": {},
   "source": [
    "- Linear Regression Model is underfit for the given data.\n",
    "- In this case, apply Polynomial Regression Model."
   ]
  },
  {
   "cell_type": "code",
   "execution_count": 33,
   "metadata": {},
   "outputs": [],
   "source": [
    "from sklearn.preprocessing import PolynomialFeatures"
   ]
  },
  {
   "cell_type": "code",
   "execution_count": 40,
   "metadata": {},
   "outputs": [],
   "source": [
    "poly_reg = PolynomialFeatures(degree = 2)\n",
    "X_poly = poly_reg.fit_transform(X)"
   ]
  },
  {
   "cell_type": "code",
   "execution_count": 41,
   "metadata": {},
   "outputs": [],
   "source": [
    "lin_reg2 = LinearRegression()\n",
    "lin_reg2.fit(X_poly,Y.reshape(-1,1))\n",
    "y_pred = lin_reg2.predict(X_poly)"
   ]
  },
  {
   "cell_type": "code",
   "execution_count": 42,
   "metadata": {},
   "outputs": [
    {
     "data": {
      "text/plain": [
       "[<matplotlib.lines.Line2D at 0x1d0ce09fb70>,\n",
       " <matplotlib.lines.Line2D at 0x1d0ce09f358>,\n",
       " <matplotlib.lines.Line2D at 0x1d0ce0b3128>]"
      ]
     },
     "execution_count": 42,
     "metadata": {},
     "output_type": "execute_result"
    },
    {
     "data": {
      "image/png": "[encoded data removed]",
      "text/plain": [
       "<Figure size 432x288 with 1 Axes>"
      ]
     },
     "metadata": {
      "needs_background": "light"
     },
     "output_type": "display_data"
    }
   ],
   "source": [
    "plt.plot(X_poly)"
   ]
  },
  {
   "cell_type": "code",
   "execution_count": 44,
   "metadata": {},
   "outputs": [
    {
     "data": {
      "text/plain": [
       "[<matplotlib.lines.Line2D at 0x1d0ce13d748>]"
      ]
     },
     "execution_count": 44,
     "metadata": {},
     "output_type": "execute_result"
    },
    {
     "data": {
      "image/png": "[encoded data removed]",
      "text/plain": [
       "<Figure size 432x288 with 1 Axes>"
      ]
     },
     "metadata": {
      "needs_background": "light"
     },
     "output_type": "display_data"
    }
   ],
   "source": [
    "plt.scatter(X,Y)\n",
    "plt.plot(X,y_pred,color ='g')"
   ]
  },
  {
   "cell_type": "code",
   "execution_count": 50,
   "metadata": {},
   "outputs": [],
   "source": [
    "df = pd.read_csv('Position Salaries.csv')"
   ]
  },
  {
   "cell_type": "code",
   "execution_count": 51,
   "metadata": {},
   "outputs": [
    {
     "data": {
      "text/plain": [
       "(10, 3)"
      ]
     },
     "execution_count": 51,
     "metadata": {},
     "output_type": "execute_result"
    }
   ],
   "source": [
    "df.shape"
   ]
  },
  {
   "cell_type": "code",
   "execution_count": 52,
   "metadata": {},
   "outputs": [
    {
     "data": {
      "text/plain": [
       "RangeIndex(start=0, stop=10, step=1)"
      ]
     },
     "execution_count": 52,
     "metadata": {},
     "output_type": "execute_result"
    }
   ],
   "source": [
    "df.index"
   ]
  },
  {
   "cell_type": "code",
   "execution_count": 53,
   "metadata": {},
   "outputs": [
    {
     "data": {
      "text/plain": [
       "Index(['Position', 'Level', 'Salary'], dtype='object')"
      ]
     },
     "execution_count": 53,
     "metadata": {},
     "output_type": "execute_result"
    }
   ],
   "source": [
    "df.columns"
   ]
  },
  {
   "cell_type": "code",
   "execution_count": 57,
   "metadata": {},
   "outputs": [
    {
     "data": {
      "text/html": [
       "<div>\n",
       "<style scoped>\n",
       "    .dataframe tbody tr th:only-of-type {\n",
       "        vertical-align: middle;\n",
       "    }\n",
       "\n",
       "    .dataframe tbody tr th {\n",
       "        vertical-align: top;\n",
       "    }\n",
       "\n",
       "    .dataframe thead th {\n",
       "        text-align: right;\n",
       "    }\n",
       "</style>\n",
       "<table border=\"1\" class=\"dataframe\">\n",
       "  <thead>\n",
       "    <tr style=\"text-align: right;\">\n",
       "      <th></th>\n",
       "      <th>Level</th>\n",
       "      <th>Salary</th>\n",
       "    </tr>\n",
       "  </thead>\n",
       "  <tbody>\n",
       "    <tr>\n",
       "      <th>count</th>\n",
       "      <td>10.00000</td>\n",
       "      <td>10.000000</td>\n",
       "    </tr>\n",
       "    <tr>\n",
       "      <th>mean</th>\n",
       "      <td>5.50000</td>\n",
       "      <td>249500.000000</td>\n",
       "    </tr>\n",
       "    <tr>\n",
       "      <th>std</th>\n",
       "      <td>3.02765</td>\n",
       "      <td>299373.883668</td>\n",
       "    </tr>\n",
       "    <tr>\n",
       "      <th>min</th>\n",
       "      <td>1.00000</td>\n",
       "      <td>45000.000000</td>\n",
       "    </tr>\n",
       "    <tr>\n",
       "      <th>25%</th>\n",
       "      <td>3.25000</td>\n",
       "      <td>65000.000000</td>\n",
       "    </tr>\n",
       "    <tr>\n",
       "      <th>50%</th>\n",
       "      <td>5.50000</td>\n",
       "      <td>130000.000000</td>\n",
       "    </tr>\n",
       "    <tr>\n",
       "      <th>75%</th>\n",
       "      <td>7.75000</td>\n",
       "      <td>275000.000000</td>\n",
       "    </tr>\n",
       "    <tr>\n",
       "      <th>max</th>\n",
       "      <td>10.00000</td>\n",
       "      <td>1000000.000000</td>\n",
       "    </tr>\n",
       "  </tbody>\n",
       "</table>\n",
       "</div>"
      ],
      "text/plain": [
       "          Level          Salary\n",
       "count  10.00000       10.000000\n",
       "mean    5.50000   249500.000000\n",
       "std     3.02765   299373.883668\n",
       "min     1.00000    45000.000000\n",
       "25%     3.25000    65000.000000\n",
       "50%     5.50000   130000.000000\n",
       "75%     7.75000   275000.000000\n",
       "max    10.00000  1000000.000000"
      ]
     },
     "execution_count": 57,
     "metadata": {},
     "output_type": "execute_result"
    }
   ],
   "source": [
    "df.describe()"
   ]
  },
  {
   "cell_type": "code",
   "execution_count": 58,
   "metadata": {},
   "outputs": [],
   "source": [
    "X = df['Level'] # Input\n",
    "Y = df['Salary'] # Target"
   ]
  },
  {
   "cell_type": "code",
   "execution_count": 59,
   "metadata": {},
   "outputs": [
    {
     "name": "stdout",
     "output_type": "stream",
     "text": [
      "-68.35707762734219\n"
     ]
    }
   ],
   "source": [
    "numerator = 0\n",
    "denominator = 0\n",
    "for i in range(n):\n",
    "    numerator = numerator + (X[i] - x_mean) * (Y[i] - y_mean)\n",
    "    denominator = denominator + (X[i] - x_mean)**2\n",
    "b1 = numerator / denominator\n",
    "print(b1)"
   ]
  },
  {
   "cell_type": "code",
   "execution_count": 60,
   "metadata": {},
   "outputs": [
    {
     "name": "stdout",
     "output_type": "stream",
     "text": [
      "249691.91666250728\n"
     ]
    }
   ],
   "source": [
    "b0 = y_mean - (b1 * x_mean)\n",
    "print(b0)"
   ]
  },
  {
   "cell_type": "code",
   "execution_count": 2,
   "metadata": {},
   "outputs": [
    {
     "ename": "NameError",
     "evalue": "name 'X' is not defined",
     "output_type": "error",
     "traceback": [
      "\u001b[1;31m---------------------------------------------------------------------------\u001b[0m",
      "\u001b[1;31mNameError\u001b[0m                                 Traceback (most recent call last)",
      "\u001b[1;32m<ipython-input-2-3f72afba2305>\u001b[0m in \u001b[0;36m<module>\u001b[1;34m\u001b[0m\n\u001b[0;32m      1\u001b[0m \u001b[1;32mimport\u001b[0m \u001b[0mnumpy\u001b[0m \u001b[1;32mas\u001b[0m \u001b[0mnp\u001b[0m\u001b[1;33m\u001b[0m\u001b[1;33m\u001b[0m\u001b[0m\n\u001b[1;32m----> 2\u001b[1;33m \u001b[0mmin_X\u001b[0m \u001b[1;33m=\u001b[0m \u001b[0mnp\u001b[0m\u001b[1;33m.\u001b[0m\u001b[0mmin\u001b[0m\u001b[1;33m(\u001b[0m\u001b[0mX\u001b[0m\u001b[1;33m)\u001b[0m\u001b[1;33m\u001b[0m\u001b[1;33m\u001b[0m\u001b[0m\n\u001b[0m\u001b[0;32m      3\u001b[0m \u001b[0mmax_X\u001b[0m \u001b[1;33m=\u001b[0m \u001b[0mnp\u001b[0m\u001b[1;33m.\u001b[0m\u001b[0mmax\u001b[0m\u001b[1;33m(\u001b[0m\u001b[0mX\u001b[0m\u001b[1;33m)\u001b[0m\u001b[1;33m\u001b[0m\u001b[1;33m\u001b[0m\u001b[0m\n\u001b[0;32m      4\u001b[0m \u001b[0mmax_X\u001b[0m\u001b[1;33m,\u001b[0m\u001b[0mmin_X\u001b[0m\u001b[1;33m\u001b[0m\u001b[1;33m\u001b[0m\u001b[0m\n",
      "\u001b[1;31mNameError\u001b[0m: name 'X' is not defined"
     ]
    }
   ],
   "source": [
    "import numpy as np\n",
    "min_X = np.min(X)\n",
    "max_X = np.max(X)\n",
    "max_X,min_X"
   ]
  },
  {
   "cell_type": "code",
   "execution_count": 1,
   "metadata": {},
   "outputs": [
    {
     "ename": "NameError",
     "evalue": "name 'np' is not defined",
     "output_type": "error",
     "traceback": [
      "\u001b[1;31m---------------------------------------------------------------------------\u001b[0m",
      "\u001b[1;31mNameError\u001b[0m                                 Traceback (most recent call last)",
      "\u001b[1;32m<ipython-input-1-89a09aa6320a>\u001b[0m in \u001b[0;36m<module>\u001b[1;34m\u001b[0m\n\u001b[1;32m----> 1\u001b[1;33m \u001b[0mx\u001b[0m \u001b[1;33m=\u001b[0m \u001b[0mnp\u001b[0m\u001b[1;33m.\u001b[0m\u001b[0mlinspace\u001b[0m\u001b[1;33m(\u001b[0m\u001b[0mmin_X\u001b[0m\u001b[1;33m,\u001b[0m\u001b[0mmax_X\u001b[0m\u001b[1;33m,\u001b[0m\u001b[1;36m1000\u001b[0m\u001b[1;33m)\u001b[0m\u001b[1;33m\u001b[0m\u001b[1;33m\u001b[0m\u001b[0m\n\u001b[0m\u001b[0;32m      2\u001b[0m \u001b[0my\u001b[0m \u001b[1;33m=\u001b[0m \u001b[0mb0\u001b[0m \u001b[1;33m+\u001b[0m \u001b[0mb1\u001b[0m \u001b[1;33m*\u001b[0m \u001b[0mx\u001b[0m\u001b[1;33m\u001b[0m\u001b[1;33m\u001b[0m\u001b[0m\n\u001b[0;32m      3\u001b[0m \u001b[0mx\u001b[0m\u001b[1;33m\u001b[0m\u001b[1;33m\u001b[0m\u001b[0m\n",
      "\u001b[1;31mNameError\u001b[0m: name 'np' is not defined"
     ]
    }
   ],
   "source": [
    "x = np.linspace(min_X,max_X,1000)\n",
    "y = b0 + b1 * x\n",
    "x"
   ]
  },
  {
   "cell_type": "code",
   "execution_count": 63,
   "metadata": {},
   "outputs": [],
   "source": [
    "X = np.linspace(0,10,100)\n",
    "rng = np.random.randn(100)* 100\n",
    "Y = X**3 + rng + 100"
   ]
  },
  {
   "cell_type": "code",
   "execution_count": 64,
   "metadata": {},
   "outputs": [
    {
     "data": {
      "text/plain": [
       "<matplotlib.collections.PathCollection at 0x1d0ce526780>"
      ]
     },
     "execution_count": 64,
     "metadata": {},
     "output_type": "execute_result"
    },
    {
     "data": {
      "image/png": "[encoded data removed]",
      "text/plain": [
       "<Figure size 432x288 with 1 Axes>"
      ]
     },
     "metadata": {
      "needs_background": "light"
     },
     "output_type": "display_data"
    }
   ],
   "source": [
    "plt.scatter(X,Y)"
   ]
  },
  {
   "cell_type": "code",
   "execution_count": 65,
   "metadata": {},
   "outputs": [],
   "source": [
    "n = len(X)\n",
    "X = X.reshape((n,1))"
   ]
  },
  {
   "cell_type": "code",
   "execution_count": 66,
   "metadata": {},
   "outputs": [
    {
     "data": {
      "text/plain": [
       "LinearRegression(copy_X=True, fit_intercept=True, n_jobs=None,\n",
       "         normalize=False)"
      ]
     },
     "execution_count": 66,
     "metadata": {},
     "output_type": "execute_result"
    }
   ],
   "source": []
  },
  {
   "cell_type": "code",
   "execution_count": 67,
   "metadata": {},
   "outputs": [],
   "source": [
    "from sklearn.linear_model import LinearRegression"
   ]
  },
  {
   "cell_type": "code",
   "execution_count": 68,
   "metadata": {},
   "outputs": [],
   "source": [
    "poly_reg = PolynomialFeatures(degree = 2)\n",
    "X_poly = poly_reg.fit_transform(X)"
   ]
  },
  {
   "cell_type": "code",
   "execution_count": 69,
   "metadata": {},
   "outputs": [],
   "source": [
    "lin_reg2 = LinearRegression()\n",
    "lin_reg2.fit(X_poly,Y.reshape(-1,1))\n",
    "y_pred = lin_reg2.predict(X_poly)"
   ]
  },
  {
   "cell_type": "code",
   "execution_count": 70,
   "metadata": {},
   "outputs": [
    {
     "data": {
      "text/plain": [
       "[<matplotlib.lines.Line2D at 0x1d0ce598320>,\n",
       " <matplotlib.lines.Line2D at 0x1d0ce598470>,\n",
       " <matplotlib.lines.Line2D at 0x1d0ce5985c0>]"
      ]
     },
     "execution_count": 70,
     "metadata": {},
     "output_type": "execute_result"
    },
    {
     "data": {
      "image/png": "[encoded data removed]",
      "text/plain": [
       "<Figure size 432x288 with 1 Axes>"
      ]
     },
     "metadata": {
      "needs_background": "light"
     },
     "output_type": "display_data"
    }
   ],
   "source": [
    "plt.plot(X_poly)"
   ]
  },
  {
   "cell_type": "code",
   "execution_count": 71,
   "metadata": {},
   "outputs": [
    {
     "data": {
      "text/plain": [
       "[<matplotlib.lines.Line2D at 0x1d0ce5d14a8>]"
      ]
     },
     "execution_count": 71,
     "metadata": {},
     "output_type": "execute_result"
    },
    {
     "data": {
      "image/png": "[encoded data removed]",
      "text/plain": [
       "<Figure size 432x288 with 1 Axes>"
      ]
     },
     "metadata": {
      "needs_background": "light"
     },
     "output_type": "display_data"
    }
   ],
   "source": [
    "plt.scatter(X,Y)\n",
    "plt.plot(X,y_pred,color ='g')"
   ]
  },
  {
   "cell_type": "code",
   "execution_count": null,
   "metadata": {},
   "outputs": [],
   "source": []
  }
 ],
 "metadata": {
  "kernelspec": {
   "display_name": "Python 3",
   "language": "python",
   "name": "python3"
  },
  "language_info": {
   "codemirror_mode": {
    "name": "ipython",
    "version": 3
   },
   "file_extension": ".py",
   "mimetype": "text/x-python",
   "name": "python",
   "nbconvert_exporter": "python",
   "pygments_lexer": "ipython3",
   "version": "3.7.1"
  }
 },
 "nbformat": 4,
 "nbformat_minor": 2
}
