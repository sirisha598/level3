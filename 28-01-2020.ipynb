{
 "cells": [
  {
   "cell_type": "code",
   "execution_count": 37,
   "metadata": {},
   "outputs": [],
   "source": [
    "import numpy as np\n",
    "import pandas as pd\n",
    "import matplotlib.pyplot as plt"
   ]
  },
  {
   "cell_type": "markdown",
   "metadata": {},
   "source": [
    "# Supervised Learning"
   ]
  },
  {
   "cell_type": "markdown",
   "metadata": {},
   "source": [
    "## Regression"
   ]
  },
  {
   "cell_type": "code",
   "execution_count": 38,
   "metadata": {},
   "outputs": [],
   "source": [
    "df = pd.DataFrame({'Head Size':[1,2,3,4,5],'Brain Weight':[3,4,4.9,6.7,8.9]})"
   ]
  },
  {
   "cell_type": "code",
   "execution_count": 39,
   "metadata": {},
   "outputs": [
    {
     "data": {
      "text/html": [
       "<div>\n",
       "<style scoped>\n",
       "    .dataframe tbody tr th:only-of-type {\n",
       "        vertical-align: middle;\n",
       "    }\n",
       "\n",
       "    .dataframe tbody tr th {\n",
       "        vertical-align: top;\n",
       "    }\n",
       "\n",
       "    .dataframe thead th {\n",
       "        text-align: right;\n",
       "    }\n",
       "</style>\n",
       "<table border=\"1\" class=\"dataframe\">\n",
       "  <thead>\n",
       "    <tr style=\"text-align: right;\">\n",
       "      <th></th>\n",
       "      <th>Head Size</th>\n",
       "      <th>Brain Weight</th>\n",
       "    </tr>\n",
       "  </thead>\n",
       "  <tbody>\n",
       "    <tr>\n",
       "      <th>0</th>\n",
       "      <td>1</td>\n",
       "      <td>3.0</td>\n",
       "    </tr>\n",
       "    <tr>\n",
       "      <th>1</th>\n",
       "      <td>2</td>\n",
       "      <td>4.0</td>\n",
       "    </tr>\n",
       "    <tr>\n",
       "      <th>2</th>\n",
       "      <td>3</td>\n",
       "      <td>4.9</td>\n",
       "    </tr>\n",
       "    <tr>\n",
       "      <th>3</th>\n",
       "      <td>4</td>\n",
       "      <td>6.7</td>\n",
       "    </tr>\n",
       "    <tr>\n",
       "      <th>4</th>\n",
       "      <td>5</td>\n",
       "      <td>8.9</td>\n",
       "    </tr>\n",
       "  </tbody>\n",
       "</table>\n",
       "</div>"
      ],
      "text/plain": [
       "   Head Size  Brain Weight\n",
       "0          1           3.0\n",
       "1          2           4.0\n",
       "2          3           4.9\n",
       "3          4           6.7\n",
       "4          5           8.9"
      ]
     },
     "execution_count": 39,
     "metadata": {},
     "output_type": "execute_result"
    }
   ],
   "source": [
    "df"
   ]
  },
  {
   "cell_type": "code",
   "execution_count": 40,
   "metadata": {},
   "outputs": [
    {
     "data": {
      "text/plain": [
       "(5, 2)"
      ]
     },
     "execution_count": 40,
     "metadata": {},
     "output_type": "execute_result"
    }
   ],
   "source": [
    "df.shape"
   ]
  },
  {
   "cell_type": "code",
   "execution_count": 41,
   "metadata": {},
   "outputs": [
    {
     "data": {
      "text/plain": [
       "Index(['Head Size', 'Brain Weight'], dtype='object')"
      ]
     },
     "execution_count": 41,
     "metadata": {},
     "output_type": "execute_result"
    }
   ],
   "source": [
    "df.columns"
   ]
  },
  {
   "cell_type": "code",
   "execution_count": 42,
   "metadata": {},
   "outputs": [
    {
     "data": {
      "text/plain": [
       "RangeIndex(start=0, stop=5, step=1)"
      ]
     },
     "execution_count": 42,
     "metadata": {},
     "output_type": "execute_result"
    }
   ],
   "source": [
    "df.index"
   ]
  },
  {
   "cell_type": "code",
   "execution_count": 43,
   "metadata": {},
   "outputs": [
    {
     "data": {
      "text/html": [
       "<div>\n",
       "<style scoped>\n",
       "    .dataframe tbody tr th:only-of-type {\n",
       "        vertical-align: middle;\n",
       "    }\n",
       "\n",
       "    .dataframe tbody tr th {\n",
       "        vertical-align: top;\n",
       "    }\n",
       "\n",
       "    .dataframe thead th {\n",
       "        text-align: right;\n",
       "    }\n",
       "</style>\n",
       "<table border=\"1\" class=\"dataframe\">\n",
       "  <thead>\n",
       "    <tr style=\"text-align: right;\">\n",
       "      <th></th>\n",
       "      <th>Head Size</th>\n",
       "      <th>Brain Weight</th>\n",
       "    </tr>\n",
       "  </thead>\n",
       "  <tbody>\n",
       "    <tr>\n",
       "      <th>count</th>\n",
       "      <td>5.000000</td>\n",
       "      <td>5.000000</td>\n",
       "    </tr>\n",
       "    <tr>\n",
       "      <th>mean</th>\n",
       "      <td>3.000000</td>\n",
       "      <td>5.500000</td>\n",
       "    </tr>\n",
       "    <tr>\n",
       "      <th>std</th>\n",
       "      <td>1.581139</td>\n",
       "      <td>2.337734</td>\n",
       "    </tr>\n",
       "    <tr>\n",
       "      <th>min</th>\n",
       "      <td>1.000000</td>\n",
       "      <td>3.000000</td>\n",
       "    </tr>\n",
       "    <tr>\n",
       "      <th>25%</th>\n",
       "      <td>2.000000</td>\n",
       "      <td>4.000000</td>\n",
       "    </tr>\n",
       "    <tr>\n",
       "      <th>50%</th>\n",
       "      <td>3.000000</td>\n",
       "      <td>4.900000</td>\n",
       "    </tr>\n",
       "    <tr>\n",
       "      <th>75%</th>\n",
       "      <td>4.000000</td>\n",
       "      <td>6.700000</td>\n",
       "    </tr>\n",
       "    <tr>\n",
       "      <th>max</th>\n",
       "      <td>5.000000</td>\n",
       "      <td>8.900000</td>\n",
       "    </tr>\n",
       "  </tbody>\n",
       "</table>\n",
       "</div>"
      ],
      "text/plain": [
       "       Head Size  Brain Weight\n",
       "count   5.000000      5.000000\n",
       "mean    3.000000      5.500000\n",
       "std     1.581139      2.337734\n",
       "min     1.000000      3.000000\n",
       "25%     2.000000      4.000000\n",
       "50%     3.000000      4.900000\n",
       "75%     4.000000      6.700000\n",
       "max     5.000000      8.900000"
      ]
     },
     "execution_count": 43,
     "metadata": {},
     "output_type": "execute_result"
    }
   ],
   "source": [
    "df.describe()"
   ]
  },
  {
   "cell_type": "code",
   "execution_count": 44,
   "metadata": {},
   "outputs": [],
   "source": [
    "X = df['Head Size'] # Input\n",
    "Y = df['Brain Weight'] # Target"
   ]
  },
  {
   "cell_type": "markdown",
   "metadata": {},
   "source": [
    "# Line Equation Formula\n",
    "- Y = mX+c\n",
    "- Y = c+m*X\n",
    "- Y = b0+b1*X\n",
    "   - c or b0 is an Intercept\n",
    "   - m or b1 is a Slope"
   ]
  },
  {
   "cell_type": "markdown",
   "metadata": {},
   "source": [
    "# Slope(b1)\n",
    "- b1 = (X - x_mean) * (Y - y_mean)/(X - x_mean)^2      "
   ]
  },
  {
   "cell_type": "code",
   "execution_count": 45,
   "metadata": {},
   "outputs": [
    {
     "data": {
      "text/plain": [
       "5.5"
      ]
     },
     "execution_count": 45,
     "metadata": {},
     "output_type": "execute_result"
    }
   ],
   "source": [
    "n = len(X)\n",
    "x_mean = np.mean(X)\n",
    "x_mean\n",
    "y_mean = np.mean(Y)\n",
    "y_mean\n"
   ]
  },
  {
   "cell_type": "code",
   "execution_count": 46,
   "metadata": {},
   "outputs": [
    {
     "name": "stdout",
     "output_type": "stream",
     "text": [
      "1.45\n"
     ]
    }
   ],
   "source": [
    "numerator = 0\n",
    "denominator = 0\n",
    "for i in range(n):\n",
    "    numerator = numerator + (X[i] - x_mean) * (Y[i] - y_mean)\n",
    "    denominator = denominator + (X[i] - x_mean)**2\n",
    "b1 = numerator / denominator\n",
    "print(b1)"
   ]
  },
  {
   "cell_type": "code",
   "execution_count": 47,
   "metadata": {},
   "outputs": [
    {
     "name": "stdout",
     "output_type": "stream",
     "text": [
      "5\n"
     ]
    }
   ],
   "source": [
    "print(X[i])"
   ]
  },
  {
   "cell_type": "markdown",
   "metadata": {},
   "source": [
    "## Intercept Formula\n",
    "- b0 = y_mean +(b1 *x_mean)"
   ]
  },
  {
   "cell_type": "code",
   "execution_count": 48,
   "metadata": {},
   "outputs": [
    {
     "name": "stdout",
     "output_type": "stream",
     "text": [
      "1.1500000000000004\n"
     ]
    }
   ],
   "source": [
    "b0 = y_mean - (b1 * x_mean)\n",
    "print(b0)"
   ]
  },
  {
   "cell_type": "code",
   "execution_count": 49,
   "metadata": {},
   "outputs": [
    {
     "data": {
      "text/plain": [
       "(5, 1)"
      ]
     },
     "execution_count": 49,
     "metadata": {},
     "output_type": "execute_result"
    }
   ],
   "source": [
    "max_X = np.max(X)\n",
    "min_X = np.min(X)\n",
    "max_X,min_X"
   ]
  },
  {
   "cell_type": "code",
   "execution_count": 50,
   "metadata": {},
   "outputs": [
    {
     "data": {
      "text/plain": [
       "array([1.        , 1.004004  , 1.00800801, 1.01201201, 1.01601602,\n",
       "       1.02002002, 1.02402402, 1.02802803, 1.03203203, 1.03603604,\n",
       "       1.04004004, 1.04404404, 1.04804805, 1.05205205, 1.05605606,\n",
       "       1.06006006, 1.06406406, 1.06806807, 1.07207207, 1.07607608,\n",
       "       1.08008008, 1.08408408, 1.08808809, 1.09209209, 1.0960961 ,\n",
       "       1.1001001 , 1.1041041 , 1.10810811, 1.11211211, 1.11611612,\n",
       "       1.12012012, 1.12412412, 1.12812813, 1.13213213, 1.13613614,\n",
       "       1.14014014, 1.14414414, 1.14814815, 1.15215215, 1.15615616,\n",
       "       1.16016016, 1.16416416, 1.16816817, 1.17217217, 1.17617618,\n",
       "       1.18018018, 1.18418418, 1.18818819, 1.19219219, 1.1961962 ,\n",
       "       1.2002002 , 1.2042042 , 1.20820821, 1.21221221, 1.21621622,\n",
       "       1.22022022, 1.22422422, 1.22822823, 1.23223223, 1.23623624,\n",
       "       1.24024024, 1.24424424, 1.24824825, 1.25225225, 1.25625626,\n",
       "       1.26026026, 1.26426426, 1.26826827, 1.27227227, 1.27627628,\n",
       "       1.28028028, 1.28428428, 1.28828829, 1.29229229, 1.2962963 ,\n",
       "       1.3003003 , 1.3043043 , 1.30830831, 1.31231231, 1.31631632,\n",
       "       1.32032032, 1.32432432, 1.32832833, 1.33233233, 1.33633634,\n",
       "       1.34034034, 1.34434434, 1.34834835, 1.35235235, 1.35635636,\n",
       "       1.36036036, 1.36436436, 1.36836837, 1.37237237, 1.37637638,\n",
       "       1.38038038, 1.38438438, 1.38838839, 1.39239239, 1.3963964 ,\n",
       "       1.4004004 , 1.4044044 , 1.40840841, 1.41241241, 1.41641642,\n",
       "       1.42042042, 1.42442442, 1.42842843, 1.43243243, 1.43643644,\n",
       "       1.44044044, 1.44444444, 1.44844845, 1.45245245, 1.45645646,\n",
       "       1.46046046, 1.46446446, 1.46846847, 1.47247247, 1.47647648,\n",
       "       1.48048048, 1.48448448, 1.48848849, 1.49249249, 1.4964965 ,\n",
       "       1.5005005 , 1.5045045 , 1.50850851, 1.51251251, 1.51651652,\n",
       "       1.52052052, 1.52452452, 1.52852853, 1.53253253, 1.53653654,\n",
       "       1.54054054, 1.54454454, 1.54854855, 1.55255255, 1.55655656,\n",
       "       1.56056056, 1.56456456, 1.56856857, 1.57257257, 1.57657658,\n",
       "       1.58058058, 1.58458458, 1.58858859, 1.59259259, 1.5965966 ,\n",
       "       1.6006006 , 1.6046046 , 1.60860861, 1.61261261, 1.61661662,\n",
       "       1.62062062, 1.62462462, 1.62862863, 1.63263263, 1.63663664,\n",
       "       1.64064064, 1.64464464, 1.64864865, 1.65265265, 1.65665666,\n",
       "       1.66066066, 1.66466466, 1.66866867, 1.67267267, 1.67667668,\n",
       "       1.68068068, 1.68468468, 1.68868869, 1.69269269, 1.6966967 ,\n",
       "       1.7007007 , 1.7047047 , 1.70870871, 1.71271271, 1.71671672,\n",
       "       1.72072072, 1.72472472, 1.72872873, 1.73273273, 1.73673674,\n",
       "       1.74074074, 1.74474474, 1.74874875, 1.75275275, 1.75675676,\n",
       "       1.76076076, 1.76476476, 1.76876877, 1.77277277, 1.77677678,\n",
       "       1.78078078, 1.78478478, 1.78878879, 1.79279279, 1.7967968 ,\n",
       "       1.8008008 , 1.8048048 , 1.80880881, 1.81281281, 1.81681682,\n",
       "       1.82082082, 1.82482482, 1.82882883, 1.83283283, 1.83683684,\n",
       "       1.84084084, 1.84484484, 1.84884885, 1.85285285, 1.85685686,\n",
       "       1.86086086, 1.86486486, 1.86886887, 1.87287287, 1.87687688,\n",
       "       1.88088088, 1.88488488, 1.88888889, 1.89289289, 1.8968969 ,\n",
       "       1.9009009 , 1.9049049 , 1.90890891, 1.91291291, 1.91691692,\n",
       "       1.92092092, 1.92492492, 1.92892893, 1.93293293, 1.93693694,\n",
       "       1.94094094, 1.94494494, 1.94894895, 1.95295295, 1.95695696,\n",
       "       1.96096096, 1.96496496, 1.96896897, 1.97297297, 1.97697698,\n",
       "       1.98098098, 1.98498498, 1.98898899, 1.99299299, 1.996997  ,\n",
       "       2.001001  , 2.00500501, 2.00900901, 2.01301301, 2.01701702,\n",
       "       2.02102102, 2.02502503, 2.02902903, 2.03303303, 2.03703704,\n",
       "       2.04104104, 2.04504505, 2.04904905, 2.05305305, 2.05705706,\n",
       "       2.06106106, 2.06506507, 2.06906907, 2.07307307, 2.07707708,\n",
       "       2.08108108, 2.08508509, 2.08908909, 2.09309309, 2.0970971 ,\n",
       "       2.1011011 , 2.10510511, 2.10910911, 2.11311311, 2.11711712,\n",
       "       2.12112112, 2.12512513, 2.12912913, 2.13313313, 2.13713714,\n",
       "       2.14114114, 2.14514515, 2.14914915, 2.15315315, 2.15715716,\n",
       "       2.16116116, 2.16516517, 2.16916917, 2.17317317, 2.17717718,\n",
       "       2.18118118, 2.18518519, 2.18918919, 2.19319319, 2.1971972 ,\n",
       "       2.2012012 , 2.20520521, 2.20920921, 2.21321321, 2.21721722,\n",
       "       2.22122122, 2.22522523, 2.22922923, 2.23323323, 2.23723724,\n",
       "       2.24124124, 2.24524525, 2.24924925, 2.25325325, 2.25725726,\n",
       "       2.26126126, 2.26526527, 2.26926927, 2.27327327, 2.27727728,\n",
       "       2.28128128, 2.28528529, 2.28928929, 2.29329329, 2.2972973 ,\n",
       "       2.3013013 , 2.30530531, 2.30930931, 2.31331331, 2.31731732,\n",
       "       2.32132132, 2.32532533, 2.32932933, 2.33333333, 2.33733734,\n",
       "       2.34134134, 2.34534535, 2.34934935, 2.35335335, 2.35735736,\n",
       "       2.36136136, 2.36536537, 2.36936937, 2.37337337, 2.37737738,\n",
       "       2.38138138, 2.38538539, 2.38938939, 2.39339339, 2.3973974 ,\n",
       "       2.4014014 , 2.40540541, 2.40940941, 2.41341341, 2.41741742,\n",
       "       2.42142142, 2.42542543, 2.42942943, 2.43343343, 2.43743744,\n",
       "       2.44144144, 2.44544545, 2.44944945, 2.45345345, 2.45745746,\n",
       "       2.46146146, 2.46546547, 2.46946947, 2.47347347, 2.47747748,\n",
       "       2.48148148, 2.48548549, 2.48948949, 2.49349349, 2.4974975 ,\n",
       "       2.5015015 , 2.50550551, 2.50950951, 2.51351351, 2.51751752,\n",
       "       2.52152152, 2.52552553, 2.52952953, 2.53353353, 2.53753754,\n",
       "       2.54154154, 2.54554555, 2.54954955, 2.55355355, 2.55755756,\n",
       "       2.56156156, 2.56556557, 2.56956957, 2.57357357, 2.57757758,\n",
       "       2.58158158, 2.58558559, 2.58958959, 2.59359359, 2.5975976 ,\n",
       "       2.6016016 , 2.60560561, 2.60960961, 2.61361361, 2.61761762,\n",
       "       2.62162162, 2.62562563, 2.62962963, 2.63363363, 2.63763764,\n",
       "       2.64164164, 2.64564565, 2.64964965, 2.65365365, 2.65765766,\n",
       "       2.66166166, 2.66566567, 2.66966967, 2.67367367, 2.67767768,\n",
       "       2.68168168, 2.68568569, 2.68968969, 2.69369369, 2.6976977 ,\n",
       "       2.7017017 , 2.70570571, 2.70970971, 2.71371371, 2.71771772,\n",
       "       2.72172172, 2.72572573, 2.72972973, 2.73373373, 2.73773774,\n",
       "       2.74174174, 2.74574575, 2.74974975, 2.75375375, 2.75775776,\n",
       "       2.76176176, 2.76576577, 2.76976977, 2.77377377, 2.77777778,\n",
       "       2.78178178, 2.78578579, 2.78978979, 2.79379379, 2.7977978 ,\n",
       "       2.8018018 , 2.80580581, 2.80980981, 2.81381381, 2.81781782,\n",
       "       2.82182182, 2.82582583, 2.82982983, 2.83383383, 2.83783784,\n",
       "       2.84184184, 2.84584585, 2.84984985, 2.85385385, 2.85785786,\n",
       "       2.86186186, 2.86586587, 2.86986987, 2.87387387, 2.87787788,\n",
       "       2.88188188, 2.88588589, 2.88988989, 2.89389389, 2.8978979 ,\n",
       "       2.9019019 , 2.90590591, 2.90990991, 2.91391391, 2.91791792,\n",
       "       2.92192192, 2.92592593, 2.92992993, 2.93393393, 2.93793794,\n",
       "       2.94194194, 2.94594595, 2.94994995, 2.95395395, 2.95795796,\n",
       "       2.96196196, 2.96596597, 2.96996997, 2.97397397, 2.97797798,\n",
       "       2.98198198, 2.98598599, 2.98998999, 2.99399399, 2.997998  ,\n",
       "       3.002002  , 3.00600601, 3.01001001, 3.01401401, 3.01801802,\n",
       "       3.02202202, 3.02602603, 3.03003003, 3.03403403, 3.03803804,\n",
       "       3.04204204, 3.04604605, 3.05005005, 3.05405405, 3.05805806,\n",
       "       3.06206206, 3.06606607, 3.07007007, 3.07407407, 3.07807808,\n",
       "       3.08208208, 3.08608609, 3.09009009, 3.09409409, 3.0980981 ,\n",
       "       3.1021021 , 3.10610611, 3.11011011, 3.11411411, 3.11811812,\n",
       "       3.12212212, 3.12612613, 3.13013013, 3.13413413, 3.13813814,\n",
       "       3.14214214, 3.14614615, 3.15015015, 3.15415415, 3.15815816,\n",
       "       3.16216216, 3.16616617, 3.17017017, 3.17417417, 3.17817818,\n",
       "       3.18218218, 3.18618619, 3.19019019, 3.19419419, 3.1981982 ,\n",
       "       3.2022022 , 3.20620621, 3.21021021, 3.21421421, 3.21821822,\n",
       "       3.22222222, 3.22622623, 3.23023023, 3.23423423, 3.23823824,\n",
       "       3.24224224, 3.24624625, 3.25025025, 3.25425425, 3.25825826,\n",
       "       3.26226226, 3.26626627, 3.27027027, 3.27427427, 3.27827828,\n",
       "       3.28228228, 3.28628629, 3.29029029, 3.29429429, 3.2982983 ,\n",
       "       3.3023023 , 3.30630631, 3.31031031, 3.31431431, 3.31831832,\n",
       "       3.32232232, 3.32632633, 3.33033033, 3.33433433, 3.33833834,\n",
       "       3.34234234, 3.34634635, 3.35035035, 3.35435435, 3.35835836,\n",
       "       3.36236236, 3.36636637, 3.37037037, 3.37437437, 3.37837838,\n",
       "       3.38238238, 3.38638639, 3.39039039, 3.39439439, 3.3983984 ,\n",
       "       3.4024024 , 3.40640641, 3.41041041, 3.41441441, 3.41841842,\n",
       "       3.42242242, 3.42642643, 3.43043043, 3.43443443, 3.43843844,\n",
       "       3.44244244, 3.44644645, 3.45045045, 3.45445445, 3.45845846,\n",
       "       3.46246246, 3.46646647, 3.47047047, 3.47447447, 3.47847848,\n",
       "       3.48248248, 3.48648649, 3.49049049, 3.49449449, 3.4984985 ,\n",
       "       3.5025025 , 3.50650651, 3.51051051, 3.51451451, 3.51851852,\n",
       "       3.52252252, 3.52652653, 3.53053053, 3.53453453, 3.53853854,\n",
       "       3.54254254, 3.54654655, 3.55055055, 3.55455455, 3.55855856,\n",
       "       3.56256256, 3.56656657, 3.57057057, 3.57457457, 3.57857858,\n",
       "       3.58258258, 3.58658659, 3.59059059, 3.59459459, 3.5985986 ,\n",
       "       3.6026026 , 3.60660661, 3.61061061, 3.61461461, 3.61861862,\n",
       "       3.62262262, 3.62662663, 3.63063063, 3.63463463, 3.63863864,\n",
       "       3.64264264, 3.64664665, 3.65065065, 3.65465465, 3.65865866,\n",
       "       3.66266266, 3.66666667, 3.67067067, 3.67467467, 3.67867868,\n",
       "       3.68268268, 3.68668669, 3.69069069, 3.69469469, 3.6986987 ,\n",
       "       3.7027027 , 3.70670671, 3.71071071, 3.71471471, 3.71871872,\n",
       "       3.72272272, 3.72672673, 3.73073073, 3.73473473, 3.73873874,\n",
       "       3.74274274, 3.74674675, 3.75075075, 3.75475475, 3.75875876,\n",
       "       3.76276276, 3.76676677, 3.77077077, 3.77477477, 3.77877878,\n",
       "       3.78278278, 3.78678679, 3.79079079, 3.79479479, 3.7987988 ,\n",
       "       3.8028028 , 3.80680681, 3.81081081, 3.81481481, 3.81881882,\n",
       "       3.82282282, 3.82682683, 3.83083083, 3.83483483, 3.83883884,\n",
       "       3.84284284, 3.84684685, 3.85085085, 3.85485485, 3.85885886,\n",
       "       3.86286286, 3.86686687, 3.87087087, 3.87487487, 3.87887888,\n",
       "       3.88288288, 3.88688689, 3.89089089, 3.89489489, 3.8988989 ,\n",
       "       3.9029029 , 3.90690691, 3.91091091, 3.91491491, 3.91891892,\n",
       "       3.92292292, 3.92692693, 3.93093093, 3.93493493, 3.93893894,\n",
       "       3.94294294, 3.94694695, 3.95095095, 3.95495495, 3.95895896,\n",
       "       3.96296296, 3.96696697, 3.97097097, 3.97497497, 3.97897898,\n",
       "       3.98298298, 3.98698699, 3.99099099, 3.99499499, 3.998999  ,\n",
       "       4.003003  , 4.00700701, 4.01101101, 4.01501502, 4.01901902,\n",
       "       4.02302302, 4.02702703, 4.03103103, 4.03503504, 4.03903904,\n",
       "       4.04304304, 4.04704705, 4.05105105, 4.05505506, 4.05905906,\n",
       "       4.06306306, 4.06706707, 4.07107107, 4.07507508, 4.07907908,\n",
       "       4.08308308, 4.08708709, 4.09109109, 4.0950951 , 4.0990991 ,\n",
       "       4.1031031 , 4.10710711, 4.11111111, 4.11511512, 4.11911912,\n",
       "       4.12312312, 4.12712713, 4.13113113, 4.13513514, 4.13913914,\n",
       "       4.14314314, 4.14714715, 4.15115115, 4.15515516, 4.15915916,\n",
       "       4.16316316, 4.16716717, 4.17117117, 4.17517518, 4.17917918,\n",
       "       4.18318318, 4.18718719, 4.19119119, 4.1951952 , 4.1991992 ,\n",
       "       4.2032032 , 4.20720721, 4.21121121, 4.21521522, 4.21921922,\n",
       "       4.22322322, 4.22722723, 4.23123123, 4.23523524, 4.23923924,\n",
       "       4.24324324, 4.24724725, 4.25125125, 4.25525526, 4.25925926,\n",
       "       4.26326326, 4.26726727, 4.27127127, 4.27527528, 4.27927928,\n",
       "       4.28328328, 4.28728729, 4.29129129, 4.2952953 , 4.2992993 ,\n",
       "       4.3033033 , 4.30730731, 4.31131131, 4.31531532, 4.31931932,\n",
       "       4.32332332, 4.32732733, 4.33133133, 4.33533534, 4.33933934,\n",
       "       4.34334334, 4.34734735, 4.35135135, 4.35535536, 4.35935936,\n",
       "       4.36336336, 4.36736737, 4.37137137, 4.37537538, 4.37937938,\n",
       "       4.38338338, 4.38738739, 4.39139139, 4.3953954 , 4.3993994 ,\n",
       "       4.4034034 , 4.40740741, 4.41141141, 4.41541542, 4.41941942,\n",
       "       4.42342342, 4.42742743, 4.43143143, 4.43543544, 4.43943944,\n",
       "       4.44344344, 4.44744745, 4.45145145, 4.45545546, 4.45945946,\n",
       "       4.46346346, 4.46746747, 4.47147147, 4.47547548, 4.47947948,\n",
       "       4.48348348, 4.48748749, 4.49149149, 4.4954955 , 4.4994995 ,\n",
       "       4.5035035 , 4.50750751, 4.51151151, 4.51551552, 4.51951952,\n",
       "       4.52352352, 4.52752753, 4.53153153, 4.53553554, 4.53953954,\n",
       "       4.54354354, 4.54754755, 4.55155155, 4.55555556, 4.55955956,\n",
       "       4.56356356, 4.56756757, 4.57157157, 4.57557558, 4.57957958,\n",
       "       4.58358358, 4.58758759, 4.59159159, 4.5955956 , 4.5995996 ,\n",
       "       4.6036036 , 4.60760761, 4.61161161, 4.61561562, 4.61961962,\n",
       "       4.62362362, 4.62762763, 4.63163163, 4.63563564, 4.63963964,\n",
       "       4.64364364, 4.64764765, 4.65165165, 4.65565566, 4.65965966,\n",
       "       4.66366366, 4.66766767, 4.67167167, 4.67567568, 4.67967968,\n",
       "       4.68368368, 4.68768769, 4.69169169, 4.6956957 , 4.6996997 ,\n",
       "       4.7037037 , 4.70770771, 4.71171171, 4.71571572, 4.71971972,\n",
       "       4.72372372, 4.72772773, 4.73173173, 4.73573574, 4.73973974,\n",
       "       4.74374374, 4.74774775, 4.75175175, 4.75575576, 4.75975976,\n",
       "       4.76376376, 4.76776777, 4.77177177, 4.77577578, 4.77977978,\n",
       "       4.78378378, 4.78778779, 4.79179179, 4.7957958 , 4.7997998 ,\n",
       "       4.8038038 , 4.80780781, 4.81181181, 4.81581582, 4.81981982,\n",
       "       4.82382382, 4.82782783, 4.83183183, 4.83583584, 4.83983984,\n",
       "       4.84384384, 4.84784785, 4.85185185, 4.85585586, 4.85985986,\n",
       "       4.86386386, 4.86786787, 4.87187187, 4.87587588, 4.87987988,\n",
       "       4.88388388, 4.88788789, 4.89189189, 4.8958959 , 4.8998999 ,\n",
       "       4.9039039 , 4.90790791, 4.91191191, 4.91591592, 4.91991992,\n",
       "       4.92392392, 4.92792793, 4.93193193, 4.93593594, 4.93993994,\n",
       "       4.94394394, 4.94794795, 4.95195195, 4.95595596, 4.95995996,\n",
       "       4.96396396, 4.96796797, 4.97197197, 4.97597598, 4.97997998,\n",
       "       4.98398398, 4.98798799, 4.99199199, 4.995996  , 5.        ])"
      ]
     },
     "execution_count": 50,
     "metadata": {},
     "output_type": "execute_result"
    }
   ],
   "source": [
    "x = np.linspace(min_X,max_X,1000 )\n",
    "y = b0 + b1 * x\n",
    "x"
   ]
  },
  {
   "cell_type": "code",
   "execution_count": 51,
   "metadata": {},
   "outputs": [
    {
     "data": {
      "image/png": "[encoded data removed]",
      "text/plain": [
       "<Figure size 432x288 with 1 Axes>"
      ]
     },
     "metadata": {
      "needs_background": "light"
     },
     "output_type": "display_data"
    }
   ],
   "source": [
    "plt.scatter(X,Y,color = 'b',label = 'points')\n",
    "plt.plot(x,y,color = 'g',label = 'Line')\n",
    "plt.title('Linear Regression')\n",
    "plt.legend()\n",
    "plt.show()"
   ]
  },
  {
   "cell_type": "markdown",
   "metadata": {},
   "source": [
    "## R2 Calculation (Regression Sum of  Square)\n",
    "- r2 = 1 - (Y-y_bar)** 2 /(Y-y_mean)** 2"
   ]
  },
  {
   "cell_type": "code",
   "execution_count": 52,
   "metadata": {},
   "outputs": [],
   "source": [
    "numerator2 = 0\n",
    "denominator2 = 0\n",
    "for i in range(n):\n",
    "    y_prediction = b0 + b1 * X[i]\n",
    "    numerator2 =  (Y[i] - y_prediction)**2\n",
    "    denominator2 = (Y[i] - y_mean)**2\n",
    "r2 = 1 - (numerator2 / denominator2)    "
   ]
  },
  {
   "cell_type": "code",
   "execution_count": 53,
   "metadata": {},
   "outputs": [
    {
     "data": {
      "text/plain": [
       "1"
      ]
     },
     "execution_count": 53,
     "metadata": {},
     "output_type": "execute_result"
    }
   ],
   "source": [
    "X = df['Head Size'].values\n",
    "Y = df['Brain Weight'].values\n",
    "np.ndim(X)"
   ]
  },
  {
   "cell_type": "code",
   "execution_count": 54,
   "metadata": {},
   "outputs": [
    {
     "data": {
      "text/plain": [
       "1"
      ]
     },
     "execution_count": 54,
     "metadata": {},
     "output_type": "execute_result"
    }
   ],
   "source": [
    "np.ndim(Y)"
   ]
  },
  {
   "cell_type": "code",
   "execution_count": 55,
   "metadata": {},
   "outputs": [],
   "source": [
    "from sklearn.linear_model import LinearRegression"
   ]
  },
  {
   "cell_type": "code",
   "execution_count": 56,
   "metadata": {},
   "outputs": [
    {
     "data": {
      "text/plain": [
       "2"
      ]
     },
     "execution_count": 56,
     "metadata": {},
     "output_type": "execute_result"
    }
   ],
   "source": [
    "n2 = len(X)\n",
    "X = X.reshape((n2,1))\n",
    "np.ndim(X)"
   ]
  },
  {
   "cell_type": "code",
   "execution_count": 57,
   "metadata": {},
   "outputs": [],
   "source": [
    "lin_reg =  LinearRegression()\n",
    "lin_reg.fit(X,Y)\n",
    "y_pred = lin_reg.predict(X)"
   ]
  },
  {
   "cell_type": "code",
   "execution_count": 58,
   "metadata": {},
   "outputs": [
    {
     "data": {
      "text/plain": [
       "array([2.6 , 4.05, 5.5 , 6.95, 8.4 ])"
      ]
     },
     "execution_count": 58,
     "metadata": {},
     "output_type": "execute_result"
    }
   ],
   "source": [
    "y_pred"
   ]
  },
  {
   "cell_type": "code",
   "execution_count": 60,
   "metadata": {},
   "outputs": [],
   "source": [
    "from sklearn.metrics import mean_squared_error\n",
    "r2 = lin_reg.score(X,Y)"
   ]
  },
  {
   "cell_type": "code",
   "execution_count": 61,
   "metadata": {},
   "outputs": [
    {
     "data": {
      "text/plain": [
       "0.9618023787740164"
      ]
     },
     "execution_count": 61,
     "metadata": {},
     "output_type": "execute_result"
    }
   ],
   "source": [
    "r2 # accuracy"
   ]
  },
  {
   "cell_type": "code",
   "execution_count": null,
   "metadata": {},
   "outputs": [],
   "source": []
  }
 ],
 "metadata": {
  "kernelspec": {
   "display_name": "Python 3",
   "language": "python",
   "name": "python3"
  },
  "language_info": {
   "codemirror_mode": {
    "name": "ipython",
    "version": 3
   },
   "file_extension": ".py",
   "mimetype": "text/x-python",
   "name": "python",
   "nbconvert_exporter": "python",
   "pygments_lexer": "ipython3",
   "version": "3.7.1"
  }
 },
 "nbformat": 4,
 "nbformat_minor": 2
}
